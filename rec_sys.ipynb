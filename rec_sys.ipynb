{
  "nbformat": 4,
  "nbformat_minor": 0,
  "metadata": {
    "colab": {
      "name": "rec_sys.ipynb",
      "provenance": [],
      "collapsed_sections": [],
      "mount_file_id": "1FOdxLaX5UjvgFxfRg2Vf-aQUJGrki86G",
      "authorship_tag": "ABX9TyOocL8QqaZ8rZQBukJZPJtz",
      "include_colab_link": true
    },
    "kernelspec": {
      "name": "python3",
      "display_name": "Python 3"
    },
    "language_info": {
      "name": "python"
    }
  },
  "cells": [
    {
      "cell_type": "markdown",
      "metadata": {
        "id": "view-in-github",
        "colab_type": "text"
      },
      "source": [
        "<a href=\"https://colab.research.google.com/github/dona-frj/BiDAF-ELMo_Bayesian/blob/master/rec_sys.ipynb\" target=\"_parent\"><img src=\"https://colab.research.google.com/assets/colab-badge.svg\" alt=\"Open In Colab\"/></a>"
      ]
    },
    {
      "cell_type": "code",
      "execution_count": null,
      "metadata": {
        "id": "nDEOxOBlRt1J"
      },
      "outputs": [],
      "source": [
        "!pip install swifter"
      ]
    },
    {
      "cell_type": "code",
      "source": [
        "from google.colab import drive\n",
        "drive.mount('/content/drive')"
      ],
      "metadata": {
        "id": "0ZtLe9twRzyk"
      },
      "execution_count": null,
      "outputs": []
    },
    {
      "cell_type": "code",
      "source": [
        "import swifter\n",
        "from mpl_toolkits.mplot3d import Axes3D\n",
        "from sklearn.preprocessing import StandardScaler\n",
        "import matplotlib.pyplot as plt # plotting\n",
        "import matplotlib.image as mpimg\n",
        "import numpy as np # linear algebra\n",
        "import pandas as pd # data processing, CSV file I/O (e.g. pd.read_csv)\n",
        "import os # accessing directory structure"
      ],
      "metadata": {
        "id": "mJxA1-esSD2I"
      },
      "execution_count": 27,
      "outputs": []
    },
    {
      "cell_type": "code",
      "source": [
        ""
      ],
      "metadata": {
        "id": "G1Zbr5a5SPtb"
      },
      "execution_count": 27,
      "outputs": []
    },
    {
      "cell_type": "code",
      "source": [
        "DATASET_PATH = \"/content/drive/MyDrive/images/\"\n",
        "print(os.listdir(DATASET_PATH))\n",
        "df = pd.read_csv(DATASET_PATH + \"images.csv\", nrows=5000, error_bad_lines=False)\n",
        "df['image'] = df.apply(lambda row: str(row['label']) + \".jpg\", axis=1)\n",
        "df = df.reset_index(drop=True)\n",
        "df.head(5700)\n"
      ],
      "metadata": {
        "id": "ZBKbIJjTSgEB"
      },
      "execution_count": null,
      "outputs": []
    },
    {
      "cell_type": "code",
      "source": [
        "import cv2\n",
        "def plot_figures(figures, nrows = 1, ncols=1,figsize=(8, 8)):\n",
        "    \"\"\"Plot a dictionary of figures.\n",
        "\n",
        "    Parameters\n",
        "    ----------\n",
        "    figures : <title, figure> dictionary\n",
        "    ncols : number of columns of subplots wanted in the display\n",
        "    nrows : number of rows of subplots wanted in the figure\n",
        "    \"\"\"\n",
        "\n",
        "    fig, axeslist = plt.subplots(ncols=ncols, nrows=nrows,figsize=figsize)\n",
        "    for ind,title in enumerate(figures):\n",
        "        axeslist.ravel()[ind].imshow(cv2.cvtColor(figures[title], cv2.COLOR_BGR2RGB))\n",
        "        axeslist.ravel()[ind].set_title(title)\n",
        "        axeslist.ravel()[ind].set_axis_off()\n",
        "    plt.tight_layout() # optional\n",
        "    \n",
        "def img_path(img):\n",
        " \n",
        "    return DATASET_PATH+'Brown_T-shirt'+img\n",
        "\n",
        "def load_image(img, resized_fac = 0.1):\n",
        "    img     = cv2.imread(img_path(img))\n",
        "    w, h, _ = img.shape\n",
        "    resized = cv2.resize(img, (int(h*resized_fac), int(w*resized_fac)), interpolation = cv2.INTER_AREA)\n",
        "    return resized"
      ],
      "metadata": {
        "id": "MJ5Bt7FIZZhb"
      },
      "execution_count": 147,
      "outputs": []
    },
    {
      "cell_type": "code",
      "source": [
        "def plot_figures(figures, nrows = 1, ncols=1):\n",
        "    \"\"\"Plot a dictionary of figures.\n",
        "\n",
        "    Parameters\n",
        "    ----------\n",
        "    figures : <title, figure> dictionary\n",
        "    ncols : number of columns of subplots wanted in the display\n",
        "    nrows : number of rows of subplots wanted in the figure\n",
        "    \"\"\"\n",
        "\n",
        "    fig, axeslist = plt.subplots(ncols=ncols, nrows=nrows)\n",
        "    for ind,title in enumerate(figures):\n",
        "        axeslist.ravel()[ind].imshow(figures[title], cmap=plt.gray())\n",
        "        axeslist.ravel()[ind].set_title(title)\n",
        "        axeslist.ravel()[ind].set_axis_off()\n",
        "    plt.tight_layout() # optional\n"
      ],
      "metadata": {
        "id": "ZK1RAGohZnCO"
      },
      "execution_count": 148,
      "outputs": []
    },
    {
      "cell_type": "code",
      "source": [
        "plt.figure(figsize=(7,20))\n",
        "df.value_counts().sort_values().plot(kind='barh')"
      ],
      "metadata": {
        "id": "IJW7HmE4aexe"
      },
      "execution_count": null,
      "outputs": []
    },
    {
      "cell_type": "code",
      "source": [
        "!pip install keras.applications.Resnet50"
      ],
      "metadata": {
        "id": "0OKPQwGWb8vH"
      },
      "execution_count": null,
      "outputs": []
    },
    {
      "cell_type": "code",
      "source": [
        "!pip install keras.applications"
      ],
      "metadata": {
        "id": "-WKQcd7UbxJ_"
      },
      "execution_count": null,
      "outputs": []
    },
    {
      "cell_type": "code",
      "source": [
        "import tensorflow as tf\n",
        "import keras\n",
        "from keras import Model\n",
        "from tensorflow.keras.applications.resnet50 import ResNet50,preprocess_input,decode_predictions\n",
        "from keras.preprocessing import image\n",
        "from keras.layers import GlobalMaxPooling2D\n",
        "tf.__version__"
      ],
      "metadata": {
        "colab": {
          "base_uri": "https://localhost:8080/",
          "height": 35
        },
        "id": "DEv1dvlRbhcx",
        "outputId": "31bd3ba2-caf6-4591-9217-f01ca5154eb9"
      },
      "execution_count": 151,
      "outputs": [
        {
          "output_type": "execute_result",
          "data": {
            "application/vnd.google.colaboratory.intrinsic+json": {
              "type": "string"
            },
            "text/plain": [
              "'2.7.0'"
            ]
          },
          "metadata": {},
          "execution_count": 151
        }
      ]
    },
    {
      "cell_type": "code",
      "source": [
        "# Input Shape\n",
        "img_width, img_height, _ = 224, 224, 3 \n",
        "# load_image(df.iloc[0].image).shape\n",
        "\n",
        "# Pre-Trained Model\n",
        "base_model = ResNet50(weights='imagenet', \n",
        "                      include_top=False, \n",
        "                      input_shape = (img_width, img_height, 3))\n",
        "base_model.trainable = False\n",
        "\n",
        "# Add Layer Embedding\n",
        "model = keras.Sequential([\n",
        "    base_model,\n",
        "    GlobalMaxPooling2D()\n",
        "])\n",
        "\n",
        "model.summary()"
      ],
      "metadata": {
        "colab": {
          "base_uri": "https://localhost:8080/"
        },
        "id": "zC0WqIUDc9n3",
        "outputId": "3177ef6f-2f6a-44dc-ae0a-cb3eafbea5dd"
      },
      "execution_count": 152,
      "outputs": [
        {
          "output_type": "stream",
          "name": "stdout",
          "text": [
            "Model: \"sequential_3\"\n",
            "_________________________________________________________________\n",
            " Layer (type)                Output Shape              Param #   \n",
            "=================================================================\n",
            " resnet50 (Functional)       (None, 7, 7, 2048)        23587712  \n",
            "                                                                 \n",
            " global_max_pooling2d_3 (Glo  (None, 2048)             0         \n",
            " balMaxPooling2D)                                                \n",
            "                                                                 \n",
            "=================================================================\n",
            "Total params: 23,587,712\n",
            "Trainable params: 0\n",
            "Non-trainable params: 23,587,712\n",
            "_________________________________________________________________\n"
          ]
        }
      ]
    },
    {
      "cell_type": "code",
      "source": [
        "def get_embedding(model, img_name):\n",
        "    # Reshape\n",
        "    img = image.load_img(img_path('/101.jpg'), target_size=(img_width, img_height))\n",
        "    # img to Array\n",
        "    x   = image.img_to_array(img)\n",
        "    # Expand Dim (1, w, h)\n",
        "    x   = np.expand_dims(x, axis=0)\n",
        "    # Pre process Input\n",
        "    x   = preprocess_input(x)\n",
        "    return model.predict(x).reshape(-1)\n",
        "\n",
        "emb = get_embedding(model, df.iloc[0].image)\n",
        "emb.shape\n",
        "print(emb)\n"
      ],
      "metadata": {
        "colab": {
          "base_uri": "https://localhost:8080/"
        },
        "id": "skxnY2iOdEHi",
        "outputId": "6526396d-4aa0-4211-a1ee-e69826ef32f0"
      },
      "execution_count": 167,
      "outputs": [
        {
          "output_type": "stream",
          "name": "stdout",
          "text": [
            "[ 2.3241737  10.687535    0.83905244 ...  6.074918    5.223775\n",
            " 12.693104  ]\n"
          ]
        }
      ]
    },
    {
      "cell_type": "code",
      "source": [
        "df.shape"
      ],
      "metadata": {
        "colab": {
          "base_uri": "https://localhost:8080/"
        },
        "id": "kFIWLLa_03AM",
        "outputId": "01fd0f8d-968f-40d0-f7b8-22288bebfca3"
      },
      "execution_count": 168,
      "outputs": [
        {
          "output_type": "execute_result",
          "data": {
            "text/plain": [
              "(5000, 2)"
            ]
          },
          "metadata": {},
          "execution_count": 168
        }
      ]
    }
  ]
}